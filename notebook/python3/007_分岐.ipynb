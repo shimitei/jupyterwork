{
 "cells": [
  {
   "cell_type": "raw",
   "metadata": {},
   "source": [
    "if文\n",
    "if 条件:\n",
    "  ...\n",
    "elif 条件:\n",
    "  ..\n",
    "else:\n",
    "  ..."
   ]
  },
  {
   "cell_type": "code",
   "execution_count": 1,
   "metadata": {
    "collapsed": false
   },
   "outputs": [
    {
     "name": "stdout",
     "output_type": "stream",
     "text": [
      "one\n"
     ]
    },
    {
     "data": {
      "text/plain": [
       "1"
      ]
     },
     "execution_count": 1,
     "metadata": {},
     "output_type": "execute_result"
    }
   ],
   "source": [
    "x = 1\n",
    "if x < 0:\n",
    "    x = 0\n",
    "    print('negative')\n",
    "elif x == 0:\n",
    "    print('zero')\n",
    "elif x == 1:\n",
    "    print('one')\n",
    "else:\n",
    "    print('other')\n",
    "x"
   ]
  },
  {
   "cell_type": "code",
   "execution_count": 2,
   "metadata": {
    "collapsed": false
   },
   "outputs": [
    {
     "name": "stdout",
     "output_type": "stream",
     "text": [
      "True\n"
     ]
    }
   ],
   "source": [
    "if True: print('True')"
   ]
  },
  {
   "cell_type": "code",
   "execution_count": 3,
   "metadata": {
    "collapsed": false
   },
   "outputs": [
    {
     "name": "stdout",
     "output_type": "stream",
     "text": [
      "True\n"
     ]
    }
   ],
   "source": [
    "if True: print('True')\n",
    "else: print('False')"
   ]
  },
  {
   "cell_type": "raw",
   "metadata": {},
   "source": [
    "Pythonにはswitchはありません\n",
    "複数の値との一致をする場合"
   ]
  },
  {
   "cell_type": "code",
   "execution_count": 4,
   "metadata": {
    "collapsed": false
   },
   "outputs": [
    {
     "name": "stdout",
     "output_type": "stream",
     "text": [
      "1-3\n"
     ]
    }
   ],
   "source": [
    "x = 2\n",
    "if x in {1, 2, 3}:\n",
    "    print('1-3')"
   ]
  },
  {
   "cell_type": "code",
   "execution_count": null,
   "metadata": {
    "collapsed": true
   },
   "outputs": [],
   "source": []
  }
 ],
 "metadata": {
  "kernelspec": {
   "display_name": "Python 3",
   "language": "python",
   "name": "python3"
  },
  "language_info": {
   "codemirror_mode": {
    "name": "ipython",
    "version": 3
   },
   "file_extension": ".py",
   "mimetype": "text/x-python",
   "name": "python",
   "nbconvert_exporter": "python",
   "pygments_lexer": "ipython3",
   "version": "3.5.2"
  }
 },
 "nbformat": 4,
 "nbformat_minor": 0
}
