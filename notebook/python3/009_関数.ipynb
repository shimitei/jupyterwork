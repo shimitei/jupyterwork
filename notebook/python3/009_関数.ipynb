{
 "cells": [
  {
   "cell_type": "code",
   "execution_count": 1,
   "metadata": {
    "collapsed": false
   },
   "outputs": [
    {
     "name": "stdout",
     "output_type": "stream",
     "text": [
      "1\n",
      "0\n",
      "1\n"
     ]
    }
   ],
   "source": [
    "a = 1\n",
    "\n",
    "def functionname(param):\n",
    "    \"documantation string\"\n",
    "    print(param)\n",
    "    function_local_var = 0\n",
    "    a = 0\n",
    "    print(a)\n",
    "\n",
    "functionname(a)\n",
    "print(a)"
   ]
  },
  {
   "cell_type": "code",
   "execution_count": 2,
   "metadata": {
    "collapsed": false
   },
   "outputs": [
    {
     "name": "stdout",
     "output_type": "stream",
     "text": [
      "1\n"
     ]
    }
   ],
   "source": [
    "def one():\n",
    "    return 1\n",
    "\n",
    "print(one())"
   ]
  },
  {
   "cell_type": "code",
   "execution_count": 3,
   "metadata": {
    "collapsed": false
   },
   "outputs": [
    {
     "name": "stdout",
     "output_type": "stream",
     "text": [
      "確認 削除しますか？ [y/N]\n",
      "確認 上書きしますか？ [Y/n]\n"
     ]
    }
   ],
   "source": [
    "#デフォルト引数\n",
    "def confirm(msg, title='確認', prompt='[y/N]'):\n",
    "    print(title, msg, prompt)\n",
    "\n",
    "confirm('削除しますか？')\n",
    "#キーワード引数\n",
    "confirm('上書きしますか？', prompt='[Y/n]')"
   ]
  },
  {
   "cell_type": "code",
   "execution_count": null,
   "metadata": {
    "collapsed": true
   },
   "outputs": [],
   "source": []
  }
 ],
 "metadata": {
  "kernelspec": {
   "display_name": "Python 3",
   "language": "python",
   "name": "python3"
  },
  "language_info": {
   "codemirror_mode": {
    "name": "ipython",
    "version": 3
   },
   "file_extension": ".py",
   "mimetype": "text/x-python",
   "name": "python",
   "nbconvert_exporter": "python",
   "pygments_lexer": "ipython3",
   "version": "3.5.2"
  }
 },
 "nbformat": 4,
 "nbformat_minor": 0
}
