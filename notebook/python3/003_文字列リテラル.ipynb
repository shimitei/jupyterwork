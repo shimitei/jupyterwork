{
 "cells": [
  {
   "cell_type": "raw",
   "metadata": {},
   "source": [
    "'か\"で囲むと文字列。\n",
    "'と\"の違いは無い。"
   ]
  },
  {
   "cell_type": "code",
   "execution_count": 1,
   "metadata": {
    "collapsed": false
   },
   "outputs": [
    {
     "name": "stdout",
     "output_type": "stream",
     "text": [
      "string\n",
      "text\n"
     ]
    }
   ],
   "source": [
    "print('string')\n",
    "print(\"text\")"
   ]
  },
  {
   "cell_type": "raw",
   "metadata": {},
   "source": [
    "'で囲った中で'を使うには\\'と記述する。\n",
    "\"で囲った中で\"を使うには\\\"と記述する。"
   ]
  },
  {
   "cell_type": "code",
   "execution_count": 4,
   "metadata": {
    "collapsed": false
   },
   "outputs": [
    {
     "name": "stdout",
     "output_type": "stream",
     "text": [
      "i'm lovin' it\n",
      "He said \"spam spam spam spam spam spam and spam.\"\n"
     ]
    }
   ],
   "source": [
    "print('i\\'m lovin\\' it')\n",
    "print(\"He said \\\"spam spam spam spam spam spam and spam.\\\"\")"
   ]
  },
  {
   "cell_type": "raw",
   "metadata": {},
   "source": [
    "もちろん\"で囲った中で'を使うには\\でエスケープする必要は無い。\n",
    "'で囲った中で\"を使う場合も同様。"
   ]
  },
  {
   "cell_type": "code",
   "execution_count": 5,
   "metadata": {
    "collapsed": false
   },
   "outputs": [
    {
     "name": "stdout",
     "output_type": "stream",
     "text": [
      "i'm lovin' it\n",
      "He said \"spam spam spam spam spam spam and spam.\"\n"
     ]
    }
   ],
   "source": [
    "print(\"i'm lovin' it\")\n",
    "print('He said \"spam spam spam spam spam spam and spam.\"')"
   ]
  },
  {
   "cell_type": "raw",
   "metadata": {},
   "source": [
    "文字列中に\\を使うには\\\\と記述する。\n",
    "\\tでタブ、\\nで改行を表す。"
   ]
  },
  {
   "cell_type": "code",
   "execution_count": 7,
   "metadata": {
    "collapsed": false
   },
   "outputs": [
    {
     "name": "stdout",
     "output_type": "stream",
     "text": [
      "C:\\foo\\bar\n",
      "tab\t\n",
      "改行\n"
     ]
    }
   ],
   "source": [
    "print(\"C:\\\\foo\\\\bar\")\n",
    "print('tab\\t\\n改行')"
   ]
  },
  {
   "cell_type": "raw",
   "metadata": {},
   "source": [
    "\\のエスケープを無効にするには\n",
    "r'...'、r\"...\"\n",
    "と記述する（raw strings）"
   ]
  },
  {
   "cell_type": "code",
   "execution_count": 8,
   "metadata": {
    "collapsed": false
   },
   "outputs": [
    {
     "name": "stdout",
     "output_type": "stream",
     "text": [
      "C:\\foo\\bar\n",
      "tab\\t\\n改行\n"
     ]
    }
   ],
   "source": [
    "print(r\"C:\\foo\\bar\")\n",
    "print(r'tab\\t\\n改行')"
   ]
  },
  {
   "cell_type": "raw",
   "metadata": {},
   "source": [
    "長い長い文字列の記述\n",
    "'''...'''、\"\"\"...\"\"\"の中身を改行も含めて文字列を定義できる。"
   ]
  },
  {
   "cell_type": "code",
   "execution_count": 9,
   "metadata": {
    "collapsed": false
   },
   "outputs": [
    {
     "name": "stdout",
     "output_type": "stream",
     "text": [
      "\n",
      "一番目\n",
      "　二番目\n",
      " 　三番目\n",
      "\n",
      "\n",
      "    ひとつ\n",
      "    ふたつ\n",
      "    みっつ\n",
      "\n",
      "改行を含めたくない場合は行末に\n"
     ]
    }
   ],
   "source": [
    "print('''\n",
    "一番目\n",
    "　二番目\n",
    " 　三番目\n",
    "''')\n",
    "print(\"\"\"\n",
    "    ひとつ\n",
    "    ふたつ\n",
    "    みっつ\n",
    "\"\"\")\n",
    "print(\"\"\"\\\n",
    "改行を含めたくない場合は\\\n",
    "行末に\\\n",
    "\"\"\")"
   ]
  },
  {
   "cell_type": "raw",
   "metadata": {},
   "source": [
    "文字列の連結\n",
    "+ 演算子でも可能だが、文字列リテラルの連結は + 演算子があってもなくても良い。"
   ]
  },
  {
   "cell_type": "code",
   "execution_count": 13,
   "metadata": {
    "collapsed": false
   },
   "outputs": [
    {
     "data": {
      "text/plain": [
       "'1234'"
      ]
     },
     "execution_count": 13,
     "metadata": {},
     "output_type": "execute_result"
    }
   ],
   "source": [
    "'1' + \"2\" \"3\" '4'"
   ]
  },
  {
   "cell_type": "code",
   "execution_count": 15,
   "metadata": {
    "collapsed": false
   },
   "outputs": [
    {
     "name": "stdout",
     "output_type": "stream",
     "text": [
      "A long time ago in a galaxy far,far away ...\n"
     ]
    }
   ],
   "source": [
    "print(\n",
    "    'A long time ago in a galaxy far,'\n",
    "    'far away ...'\n",
    ")"
   ]
  }
 ],
 "metadata": {
  "kernelspec": {
   "display_name": "Python 3",
   "language": "python",
   "name": "python3"
  },
  "language_info": {
   "codemirror_mode": {
    "name": "ipython",
    "version": 3
   },
   "file_extension": ".py",
   "mimetype": "text/x-python",
   "name": "python",
   "nbconvert_exporter": "python",
   "pygments_lexer": "ipython3",
   "version": "3.5.2"
  }
 },
 "nbformat": 4,
 "nbformat_minor": 0
}
